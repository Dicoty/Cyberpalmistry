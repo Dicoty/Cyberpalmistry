{
 "cells": [
  {
   "cell_type": "code",
   "execution_count": 69,
   "id": "915dea7f",
   "metadata": {},
   "outputs": [
    {
     "name": "stdout",
     "output_type": "stream",
     "text": [
      "['C:\\\\somefiles\\\\handdataset\\\\image\\\\1.jpg', 'C:\\\\somefiles\\\\handdataset\\\\image\\\\10.jpg', 'C:\\\\somefiles\\\\handdataset\\\\image\\\\11.jpg', 'C:\\\\somefiles\\\\handdataset\\\\image\\\\12.jpg', 'C:\\\\somefiles\\\\handdataset\\\\image\\\\14.jpg', 'C:\\\\somefiles\\\\handdataset\\\\image\\\\16.jpg', 'C:\\\\somefiles\\\\handdataset\\\\image\\\\18.jpg', 'C:\\\\somefiles\\\\handdataset\\\\image\\\\19.jpg', 'C:\\\\somefiles\\\\handdataset\\\\image\\\\21.jpg', 'C:\\\\somefiles\\\\handdataset\\\\image\\\\22.jpg', 'C:\\\\somefiles\\\\handdataset\\\\image\\\\23.jpg', 'C:\\\\somefiles\\\\handdataset\\\\image\\\\24.jpg', 'C:\\\\somefiles\\\\handdataset\\\\image\\\\25.jpg', 'C:\\\\somefiles\\\\handdataset\\\\image\\\\26.jpg', 'C:\\\\somefiles\\\\handdataset\\\\image\\\\28.jpg', 'C:\\\\somefiles\\\\handdataset\\\\image\\\\29.jpg', 'C:\\\\somefiles\\\\handdataset\\\\image\\\\30.jpg', 'C:\\\\somefiles\\\\handdataset\\\\image\\\\31.jpg', 'C:\\\\somefiles\\\\handdataset\\\\image\\\\32.jpg', 'C:\\\\somefiles\\\\handdataset\\\\image\\\\33.jpg', 'C:\\\\somefiles\\\\handdataset\\\\image\\\\34.jpg', 'C:\\\\somefiles\\\\handdataset\\\\image\\\\35.jpg', 'C:\\\\somefiles\\\\handdataset\\\\image\\\\36.jpg', 'C:\\\\somefiles\\\\handdataset\\\\image\\\\37.jpg', 'C:\\\\somefiles\\\\handdataset\\\\image\\\\38.jpg', 'C:\\\\somefiles\\\\handdataset\\\\image\\\\39.jpg', 'C:\\\\somefiles\\\\handdataset\\\\image\\\\4.jpg', 'C:\\\\somefiles\\\\handdataset\\\\image\\\\40.jpg', 'C:\\\\somefiles\\\\handdataset\\\\image\\\\41.jpg', 'C:\\\\somefiles\\\\handdataset\\\\image\\\\43.jpg', 'C:\\\\somefiles\\\\handdataset\\\\image\\\\45.jpg', 'C:\\\\somefiles\\\\handdataset\\\\image\\\\46.jpg', 'C:\\\\somefiles\\\\handdataset\\\\image\\\\47.jpg', 'C:\\\\somefiles\\\\handdataset\\\\image\\\\48.jpg', 'C:\\\\somefiles\\\\handdataset\\\\image\\\\5.jpg', 'C:\\\\somefiles\\\\handdataset\\\\image\\\\50.jpg', 'C:\\\\somefiles\\\\handdataset\\\\image\\\\52.jpg', 'C:\\\\somefiles\\\\handdataset\\\\image\\\\53.jpg', 'C:\\\\somefiles\\\\handdataset\\\\image\\\\54.jpg', 'C:\\\\somefiles\\\\handdataset\\\\image\\\\6.jpg', 'C:\\\\somefiles\\\\handdataset\\\\image\\\\7.jpg', 'C:\\\\somefiles\\\\handdataset\\\\image\\\\8.jpg', 'C:\\\\somefiles\\\\handdataset\\\\image\\\\9.jpg'] \n",
      " [1, 0, 0, 0, 1, 1, 1, 0, 0, 0, 0, 0, 0, 0, 0, 1, 0, 0, 0, 1, 0, 0, 0, 0, 1, 1, 0, 0, 1, 0, 0, 0, 1, 0, 0, 0, 0, 0, 0, 0, 0, 1, 0] \n",
      " ['C:\\\\somefiles\\\\handdataset\\\\image\\\\13.jpg', 'C:\\\\somefiles\\\\handdataset\\\\image\\\\15.jpg', 'C:\\\\somefiles\\\\handdataset\\\\image\\\\2.jpg', 'C:\\\\somefiles\\\\handdataset\\\\image\\\\20.jpg', 'C:\\\\somefiles\\\\handdataset\\\\image\\\\27.jpg', 'C:\\\\somefiles\\\\handdataset\\\\image\\\\3.jpg', 'C:\\\\somefiles\\\\handdataset\\\\image\\\\42.jpg', 'C:\\\\somefiles\\\\handdataset\\\\image\\\\44.jpg', 'C:\\\\somefiles\\\\handdataset\\\\image\\\\49.jpg', 'C:\\\\somefiles\\\\handdataset\\\\image\\\\51.jpg'] \n",
      " [1, 1, 0, 0, 0, 1, 1, 1, 0, 0]\n"
     ]
    }
   ],
   "source": [
    "import os\n",
    "import sys\n",
    "import random\n",
    "import csv\n",
    "\n",
    "root = r\"C:\\somefiles\\handdataset\"\n",
    "\n",
    "assert os.path.exists(root), \"训练文件夹填错了\"\n",
    "val_rate = 0.2\n",
    "\n",
    "label_path = os.path.join(root, \"label.csv\")\n",
    "assert os.path.exists(label_path), \"label.csv文件不存在\"\n",
    "with open(label_path, mode='r', encoding='utf-8') as file:\n",
    "    all_label = []\n",
    "    csv_reader = csv.reader(file)\n",
    "    for row in csv_reader:\n",
    "        all_label.append(row)\n",
    "\n",
    "image_root = os.path.join(root, \"image\")\n",
    "assert os.path.exists(image_root), \"image文件夹不存在\"\n",
    "# 沟槽的17号发个花的图片上来污染数据集\n",
    "image_list = [i for i in os.listdir(image_root) if os.path.basename(i) != \"17.jpg\"]\n",
    "\n",
    "train_images_path = []  # 存储训练集的所有图片路径\n",
    "train_images_label = []  # 存储训练集图片对应索引信息\n",
    "val_images_path = []  # 存储验证集的所有图片路径\n",
    "val_images_label = []  # 存储验证集图片对应索引信息\n",
    "\n",
    "val_list = random.sample(image_list, int(len(image_list) * val_rate))\n",
    "\n",
    "for img_path in image_list:\n",
    "    if img_path in val_list:\n",
    "        val_images_path.append(os.path.join(image_root, img_path))\n",
    "        i, _ = os.path.splitext(img_path)\n",
    "        image_name = os.path.basename(i)\n",
    "        val_images_label.append(int(all_label[int(image_name)][2]))\n",
    "    else:\n",
    "        train_images_path.append(os.path.join(image_root, img_path))\n",
    "        j, _ = os.path.splitext(img_path)\n",
    "        image_name = os.path.basename(j)\n",
    "        train_images_label.append(int(all_label[int(image_name)][2]))\n",
    "        \n",
    "print(train_images_path, \"\\n\", train_images_label, \"\\n\", val_images_path, \"\\n\", val_images_label)"
   ]
  },
  {
   "cell_type": "code",
   "execution_count": 6,
   "id": "7f5e0d1d",
   "metadata": {},
   "outputs": [
    {
     "name": "stdout",
     "output_type": "stream",
     "text": [
      "['4', '1', '0', '1', '1']\n"
     ]
    }
   ],
   "source": [
    "import csv\n",
    "with open(r\"C:\\somefiles\\handdataset\\label.csv\", mode='r', encoding='utf-8') as file:\n",
    "    all_label = []\n",
    "    csv_reader = csv.reader(file)\n",
    "    for row in csv_reader:\n",
    "        all_label.append(row)\n",
    "print(all_label[4])"
   ]
  }
 ],
 "metadata": {
  "kernelspec": {
   "display_name": "venvforai",
   "language": "python",
   "name": "python3"
  },
  "language_info": {
   "codemirror_mode": {
    "name": "ipython",
    "version": 3
   },
   "file_extension": ".py",
   "mimetype": "text/x-python",
   "name": "python",
   "nbconvert_exporter": "python",
   "pygments_lexer": "ipython3",
   "version": "3.12.8"
  }
 },
 "nbformat": 4,
 "nbformat_minor": 5
}
